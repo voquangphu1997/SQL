{
 "cells": [
  {
   "cell_type": "code",
   "execution_count": 2,
   "id": "c644e55d",
   "metadata": {},
   "outputs": [],
   "source": [
    "import numpy as np\n",
    "import pandas as pd\n",
    "import matplotlib.pyplot as plt\n",
    "from sklearn.linear_model import LinearRegression\n",
    "from sklearn.model_selection import train_test_split"
   ]
  },
  {
   "cell_type": "code",
   "execution_count": 3,
   "id": "be61e13d",
   "metadata": {},
   "outputs": [
    {
     "data": {
      "text/html": [
       "<div>\n",
       "<style scoped>\n",
       "    .dataframe tbody tr th:only-of-type {\n",
       "        vertical-align: middle;\n",
       "    }\n",
       "\n",
       "    .dataframe tbody tr th {\n",
       "        vertical-align: top;\n",
       "    }\n",
       "\n",
       "    .dataframe thead th {\n",
       "        text-align: right;\n",
       "    }\n",
       "</style>\n",
       "<table border=\"1\" class=\"dataframe\">\n",
       "  <thead>\n",
       "    <tr style=\"text-align: right;\">\n",
       "      <th></th>\n",
       "      <th>SoNamKinhNghiem</th>\n",
       "      <th>Luong</th>\n",
       "      <th>NganhNghe</th>\n",
       "    </tr>\n",
       "  </thead>\n",
       "  <tbody>\n",
       "    <tr>\n",
       "      <th>0</th>\n",
       "      <td>7</td>\n",
       "      <td>26.0</td>\n",
       "      <td>KeToan</td>\n",
       "    </tr>\n",
       "    <tr>\n",
       "      <th>1</th>\n",
       "      <td>4</td>\n",
       "      <td>13.8</td>\n",
       "      <td>KeToan</td>\n",
       "    </tr>\n",
       "    <tr>\n",
       "      <th>2</th>\n",
       "      <td>8</td>\n",
       "      <td>21.5</td>\n",
       "      <td>KeToan</td>\n",
       "    </tr>\n",
       "    <tr>\n",
       "      <th>3</th>\n",
       "      <td>9</td>\n",
       "      <td>24.0</td>\n",
       "      <td>KeToan</td>\n",
       "    </tr>\n",
       "    <tr>\n",
       "      <th>4</th>\n",
       "      <td>1</td>\n",
       "      <td>7.8</td>\n",
       "      <td>KeToan</td>\n",
       "    </tr>\n",
       "    <tr>\n",
       "      <th>...</th>\n",
       "      <td>...</td>\n",
       "      <td>...</td>\n",
       "      <td>...</td>\n",
       "    </tr>\n",
       "    <tr>\n",
       "      <th>1421</th>\n",
       "      <td>8</td>\n",
       "      <td>22.8</td>\n",
       "      <td>Sale</td>\n",
       "    </tr>\n",
       "    <tr>\n",
       "      <th>1422</th>\n",
       "      <td>6</td>\n",
       "      <td>18.7</td>\n",
       "      <td>Sale</td>\n",
       "    </tr>\n",
       "    <tr>\n",
       "      <th>1423</th>\n",
       "      <td>0</td>\n",
       "      <td>7.3</td>\n",
       "      <td>Sale</td>\n",
       "    </tr>\n",
       "    <tr>\n",
       "      <th>1424</th>\n",
       "      <td>0</td>\n",
       "      <td>7.2</td>\n",
       "      <td>Sale</td>\n",
       "    </tr>\n",
       "    <tr>\n",
       "      <th>1425</th>\n",
       "      <td>10</td>\n",
       "      <td>27.0</td>\n",
       "      <td>Sale</td>\n",
       "    </tr>\n",
       "  </tbody>\n",
       "</table>\n",
       "<p>1426 rows × 3 columns</p>\n",
       "</div>"
      ],
      "text/plain": [
       "      SoNamKinhNghiem  Luong NganhNghe\n",
       "0                   7   26.0    KeToan\n",
       "1                   4   13.8    KeToan\n",
       "2                   8   21.5    KeToan\n",
       "3                   9   24.0    KeToan\n",
       "4                   1    7.8    KeToan\n",
       "...               ...    ...       ...\n",
       "1421                8   22.8      Sale\n",
       "1422                6   18.7      Sale\n",
       "1423                0    7.3      Sale\n",
       "1424                0    7.2      Sale\n",
       "1425               10   27.0      Sale\n",
       "\n",
       "[1426 rows x 3 columns]"
      ]
     },
     "execution_count": 3,
     "metadata": {},
     "output_type": "execute_result"
    }
   ],
   "source": [
    "data = pd.read_csv('data/salary_data.csv', encoding = 'utf-8')\n",
    "data"
   ]
  },
  {
   "cell_type": "code",
   "execution_count": 4,
   "id": "e24a1880",
   "metadata": {},
   "outputs": [
    {
     "name": "stdout",
     "output_type": "stream",
     "text": [
      "<class 'pandas.core.frame.DataFrame'>\n",
      "RangeIndex: 1426 entries, 0 to 1425\n",
      "Data columns (total 3 columns):\n",
      " #   Column           Non-Null Count  Dtype  \n",
      "---  ------           --------------  -----  \n",
      " 0   SoNamKinhNghiem  1426 non-null   int64  \n",
      " 1   Luong            1426 non-null   float64\n",
      " 2   NganhNghe        1426 non-null   object \n",
      "dtypes: float64(1), int64(1), object(1)\n",
      "memory usage: 33.5+ KB\n"
     ]
    }
   ],
   "source": [
    "data.info()"
   ]
  },
  {
   "cell_type": "code",
   "execution_count": 5,
   "id": "2be07b8e",
   "metadata": {},
   "outputs": [
    {
     "data": {
      "text/html": [
       "<div>\n",
       "<style scoped>\n",
       "    .dataframe tbody tr th:only-of-type {\n",
       "        vertical-align: middle;\n",
       "    }\n",
       "\n",
       "    .dataframe tbody tr th {\n",
       "        vertical-align: top;\n",
       "    }\n",
       "\n",
       "    .dataframe thead th {\n",
       "        text-align: right;\n",
       "    }\n",
       "</style>\n",
       "<table border=\"1\" class=\"dataframe\">\n",
       "  <thead>\n",
       "    <tr style=\"text-align: right;\">\n",
       "      <th></th>\n",
       "      <th>SoNamKinhNghiem</th>\n",
       "      <th>Luong</th>\n",
       "    </tr>\n",
       "  </thead>\n",
       "  <tbody>\n",
       "    <tr>\n",
       "      <th>count</th>\n",
       "      <td>1426.000000</td>\n",
       "      <td>1426.000000</td>\n",
       "    </tr>\n",
       "    <tr>\n",
       "      <th>mean</th>\n",
       "      <td>4.894109</td>\n",
       "      <td>16.316550</td>\n",
       "    </tr>\n",
       "    <tr>\n",
       "      <th>std</th>\n",
       "      <td>3.075541</td>\n",
       "      <td>6.548031</td>\n",
       "    </tr>\n",
       "    <tr>\n",
       "      <th>min</th>\n",
       "      <td>0.000000</td>\n",
       "      <td>5.400000</td>\n",
       "    </tr>\n",
       "    <tr>\n",
       "      <th>25%</th>\n",
       "      <td>2.000000</td>\n",
       "      <td>10.900000</td>\n",
       "    </tr>\n",
       "    <tr>\n",
       "      <th>50%</th>\n",
       "      <td>5.000000</td>\n",
       "      <td>16.200000</td>\n",
       "    </tr>\n",
       "    <tr>\n",
       "      <th>75%</th>\n",
       "      <td>7.000000</td>\n",
       "      <td>21.300000</td>\n",
       "    </tr>\n",
       "    <tr>\n",
       "      <th>max</th>\n",
       "      <td>10.000000</td>\n",
       "      <td>70.000000</td>\n",
       "    </tr>\n",
       "  </tbody>\n",
       "</table>\n",
       "</div>"
      ],
      "text/plain": [
       "       SoNamKinhNghiem        Luong\n",
       "count      1426.000000  1426.000000\n",
       "mean          4.894109    16.316550\n",
       "std           3.075541     6.548031\n",
       "min           0.000000     5.400000\n",
       "25%           2.000000    10.900000\n",
       "50%           5.000000    16.200000\n",
       "75%           7.000000    21.300000\n",
       "max          10.000000    70.000000"
      ]
     },
     "execution_count": 5,
     "metadata": {},
     "output_type": "execute_result"
    }
   ],
   "source": [
    "data.describe()"
   ]
  },
  {
   "cell_type": "code",
   "execution_count": 6,
   "id": "750699c4",
   "metadata": {},
   "outputs": [
    {
     "data": {
      "image/png": "[encoded data removed]",
      "text/plain": [
       "<Figure size 432x288 with 1 Axes>"
      ]
     },
     "metadata": {
      "needs_background": "light"
     },
     "output_type": "display_data"
    }
   ],
   "source": [
    "plt.scatter(data.iloc[:,0],data.iloc[:,1], marker='*' , color= 'red')\n",
    "plt.xlabel(\"Number of years of experience\")\n",
    "plt.ylabel(\"Salary\")\n",
    "plt.show()\n"
   ]
  },
  {
   "cell_type": "code",
   "execution_count": 7,
   "id": "cc78a983",
   "metadata": {},
   "outputs": [
    {
     "data": {
      "image/png": "[encoded data removed]",
      "text/plain": [
       "<Figure size 432x288 with 1 Axes>"
      ]
     },
     "metadata": {
      "needs_background": "light"
     },
     "output_type": "display_data"
    }
   ],
   "source": [
    "plt.hist(data.iloc[:,1],20)\n",
    "plt.show()"
   ]
  },
  {
   "cell_type": "code",
   "execution_count": 8,
   "id": "f420df26",
   "metadata": {},
   "outputs": [
    {
     "data": {
      "text/plain": [
       "NganhNghe\n",
       "HCNS      566\n",
       "KeToan    472\n",
       "Sale      388\n",
       "Name: SoNamKinhNghiem, dtype: int64"
      ]
     },
     "execution_count": 8,
     "metadata": {},
     "output_type": "execute_result"
    }
   ],
   "source": [
    "data.groupby('NganhNghe')['SoNamKinhNghiem'].count()"
   ]
  },
  {
   "cell_type": "code",
   "execution_count": 9,
   "id": "916e41f1",
   "metadata": {},
   "outputs": [
    {
     "data": {
      "text/plain": [
       "NganhNghe\n",
       "HCNS      4.998233\n",
       "KeToan    4.760593\n",
       "Sale      4.904639\n",
       "Name: SoNamKinhNghiem, dtype: float64"
      ]
     },
     "execution_count": 9,
     "metadata": {},
     "output_type": "execute_result"
    }
   ],
   "source": [
    "data.groupby('NganhNghe')['SoNamKinhNghiem'].mean()"
   ]
  },
  {
   "cell_type": "code",
   "execution_count": 10,
   "id": "43ba2503",
   "metadata": {},
   "outputs": [
    {
     "data": {
      "text/plain": [
       "NganhNghe\n",
       "HCNS      16.556537\n",
       "KeToan    15.645975\n",
       "Sale      16.782216\n",
       "Name: Luong, dtype: float64"
      ]
     },
     "execution_count": 10,
     "metadata": {},
     "output_type": "execute_result"
    }
   ],
   "source": [
    "data.groupby('NganhNghe')['Luong'].mean()"
   ]
  },
  {
   "cell_type": "code",
   "execution_count": 11,
   "id": "84d34d66",
   "metadata": {},
   "outputs": [
    {
     "data": {
      "text/html": [
       "<div>\n",
       "<style scoped>\n",
       "    .dataframe tbody tr th:only-of-type {\n",
       "        vertical-align: middle;\n",
       "    }\n",
       "\n",
       "    .dataframe tbody tr th {\n",
       "        vertical-align: top;\n",
       "    }\n",
       "\n",
       "    .dataframe thead th {\n",
       "        text-align: right;\n",
       "    }\n",
       "</style>\n",
       "<table border=\"1\" class=\"dataframe\">\n",
       "  <thead>\n",
       "    <tr style=\"text-align: right;\">\n",
       "      <th></th>\n",
       "      <th>SoNamKinhNghiem</th>\n",
       "      <th>Luong</th>\n",
       "      <th>NganhNghe</th>\n",
       "    </tr>\n",
       "  </thead>\n",
       "  <tbody>\n",
       "    <tr>\n",
       "      <th>0</th>\n",
       "      <td>7</td>\n",
       "      <td>26.0</td>\n",
       "      <td>KeToan</td>\n",
       "    </tr>\n",
       "    <tr>\n",
       "      <th>1</th>\n",
       "      <td>4</td>\n",
       "      <td>13.8</td>\n",
       "      <td>KeToan</td>\n",
       "    </tr>\n",
       "    <tr>\n",
       "      <th>2</th>\n",
       "      <td>8</td>\n",
       "      <td>21.5</td>\n",
       "      <td>KeToan</td>\n",
       "    </tr>\n",
       "    <tr>\n",
       "      <th>3</th>\n",
       "      <td>9</td>\n",
       "      <td>24.0</td>\n",
       "      <td>KeToan</td>\n",
       "    </tr>\n",
       "    <tr>\n",
       "      <th>4</th>\n",
       "      <td>1</td>\n",
       "      <td>7.8</td>\n",
       "      <td>KeToan</td>\n",
       "    </tr>\n",
       "    <tr>\n",
       "      <th>...</th>\n",
       "      <td>...</td>\n",
       "      <td>...</td>\n",
       "      <td>...</td>\n",
       "    </tr>\n",
       "    <tr>\n",
       "      <th>467</th>\n",
       "      <td>2</td>\n",
       "      <td>10.1</td>\n",
       "      <td>KeToan</td>\n",
       "    </tr>\n",
       "    <tr>\n",
       "      <th>468</th>\n",
       "      <td>2</td>\n",
       "      <td>9.7</td>\n",
       "      <td>KeToan</td>\n",
       "    </tr>\n",
       "    <tr>\n",
       "      <th>469</th>\n",
       "      <td>10</td>\n",
       "      <td>26.1</td>\n",
       "      <td>KeToan</td>\n",
       "    </tr>\n",
       "    <tr>\n",
       "      <th>470</th>\n",
       "      <td>7</td>\n",
       "      <td>20.4</td>\n",
       "      <td>KeToan</td>\n",
       "    </tr>\n",
       "    <tr>\n",
       "      <th>471</th>\n",
       "      <td>5</td>\n",
       "      <td>16.2</td>\n",
       "      <td>KeToan</td>\n",
       "    </tr>\n",
       "  </tbody>\n",
       "</table>\n",
       "<p>472 rows × 3 columns</p>\n",
       "</div>"
      ],
      "text/plain": [
       "     SoNamKinhNghiem  Luong NganhNghe\n",
       "0                  7   26.0    KeToan\n",
       "1                  4   13.8    KeToan\n",
       "2                  8   21.5    KeToan\n",
       "3                  9   24.0    KeToan\n",
       "4                  1    7.8    KeToan\n",
       "..               ...    ...       ...\n",
       "467                2   10.1    KeToan\n",
       "468                2    9.7    KeToan\n",
       "469               10   26.1    KeToan\n",
       "470                7   20.4    KeToan\n",
       "471                5   16.2    KeToan\n",
       "\n",
       "[472 rows x 3 columns]"
      ]
     },
     "execution_count": 11,
     "metadata": {},
     "output_type": "execute_result"
    }
   ],
   "source": [
    "data_accountant_salary = data[data['NganhNghe']=='KeToan']\n",
    "data_accountant_salary"
   ]
  },
  {
   "cell_type": "code",
   "execution_count": 12,
   "id": "b2d06a52",
   "metadata": {},
   "outputs": [
    {
     "data": {
      "image/png": "[encoded data removed]",
      "text/plain": [
       "<Figure size 432x288 with 1 Axes>"
      ]
     },
     "metadata": {
      "needs_background": "light"
     },
     "output_type": "display_data"
    }
   ],
   "source": [
    "plt.scatter(data_accountant_salary.iloc[:,0],data_accountant_salary.iloc[:,1], marker='*' , color= 'red')\n",
    "plt.xlabel(\"Number of years of experience\")\n",
    "plt.ylabel(\"Salary\")\n",
    "plt.show()"
   ]
  },
  {
   "cell_type": "markdown",
   "id": "866c49d2",
   "metadata": {},
   "source": [
    "## Build a model to predict salary according to number of years of experience"
   ]
  },
  {
   "cell_type": "code",
   "execution_count": 13,
   "id": "b45fc18e",
   "metadata": {},
   "outputs": [
    {
     "name": "stdout",
     "output_type": "stream",
     "text": [
      "Y=6.355921152543555+2.0328972924186415*X\n"
     ]
    }
   ],
   "source": [
    "X=data.iloc[:,0]\n",
    "y=data.iloc[:,1]\n",
    "X_train, X_test, y_train, y_test = train_test_split(X ,y ,test_size = 0.2, random_state = 0 )\n",
    "model = LinearRegression()\n",
    "model.fit(X_train.values.reshape(-1,1), y_train.ravel())\n",
    "print(f'Y={model.intercept_}+{model.coef_[0]}*X')"
   ]
  },
  {
   "cell_type": "markdown",
   "id": "acc69d67",
   "metadata": {},
   "source": [
    "## Model evaluation"
   ]
  },
  {
   "cell_type": "code",
   "execution_count": 14,
   "id": "49e0aa27",
   "metadata": {},
   "outputs": [
    {
     "data": {
      "image/png": "[encoded data removed]",
      "text/plain": [
       "<Figure size 432x288 with 1 Axes>"
      ]
     },
     "metadata": {
      "needs_background": "light"
     },
     "output_type": "display_data"
    }
   ],
   "source": [
    "predictions = model.predict(X_train.values.reshape(-1,1))\n",
    "plt.scatter(X_train,y_train)\n",
    "plt.plot(X_train,predictions, color = 'red')\n",
    "plt.show()\n"
   ]
  },
  {
   "cell_type": "code",
   "execution_count": 15,
   "id": "7623772a",
   "metadata": {},
   "outputs": [
    {
     "data": {
      "text/plain": [
       "array([10.42171574, 10.42171574, 16.52040761, 24.65199678, 10.42171574,\n",
       "        6.35592115,  6.35592115, 10.42171574,  6.35592115, 14.48751032,\n",
       "       10.42171574,  8.38881844, 12.45461303,  8.38881844,  8.38881844,\n",
       "       12.45461303, 10.42171574, 16.52040761, 16.52040761, 20.5862022 ,\n",
       "       22.61909949, 12.45461303, 18.55330491, 10.42171574, 16.52040761,\n",
       "       16.52040761, 20.5862022 , 20.5862022 , 16.52040761, 16.52040761,\n",
       "       12.45461303, 10.42171574, 26.68489408, 12.45461303,  8.38881844,\n",
       "        6.35592115, 22.61909949, 24.65199678, 24.65199678,  6.35592115,\n",
       "       18.55330491, 26.68489408, 24.65199678, 14.48751032, 14.48751032,\n",
       "       18.55330491, 22.61909949, 14.48751032, 18.55330491, 24.65199678,\n",
       "       12.45461303, 12.45461303,  8.38881844,  8.38881844, 12.45461303,\n",
       "       12.45461303, 20.5862022 , 20.5862022 , 18.55330491,  8.38881844,\n",
       "       16.52040761,  6.35592115, 14.48751032, 12.45461303,  8.38881844,\n",
       "        8.38881844, 12.45461303, 10.42171574, 14.48751032,  6.35592115,\n",
       "       12.45461303, 20.5862022 ,  6.35592115,  6.35592115, 18.55330491,\n",
       "       20.5862022 , 20.5862022 , 18.55330491, 18.55330491, 20.5862022 ,\n",
       "       24.65199678,  8.38881844, 10.42171574, 10.42171574, 14.48751032,\n",
       "       12.45461303, 18.55330491, 18.55330491, 12.45461303, 24.65199678,\n",
       "       16.52040761, 12.45461303, 18.55330491, 10.42171574, 14.48751032,\n",
       "       24.65199678, 22.61909949, 14.48751032, 14.48751032, 10.42171574,\n",
       "       14.48751032,  8.38881844, 16.52040761, 18.55330491, 18.55330491,\n",
       "       16.52040761,  6.35592115, 10.42171574, 20.5862022 , 26.68489408,\n",
       "       16.52040761,  8.38881844, 16.52040761, 22.61909949,  8.38881844,\n",
       "        6.35592115, 24.65199678, 20.5862022 , 24.65199678, 18.55330491,\n",
       "       16.52040761,  8.38881844, 22.61909949, 18.55330491, 10.42171574,\n",
       "       24.65199678, 14.48751032, 18.55330491, 22.61909949,  8.38881844,\n",
       "       14.48751032, 20.5862022 ,  6.35592115, 24.65199678, 16.52040761,\n",
       "        8.38881844, 10.42171574, 24.65199678, 16.52040761, 26.68489408,\n",
       "       14.48751032, 18.55330491, 18.55330491,  6.35592115, 18.55330491,\n",
       "        6.35592115, 24.65199678, 14.48751032,  6.35592115, 16.52040761,\n",
       "       18.55330491, 10.42171574, 12.45461303, 10.42171574, 24.65199678,\n",
       "       24.65199678, 24.65199678, 20.5862022 , 24.65199678, 26.68489408,\n",
       "       10.42171574, 16.52040761, 14.48751032, 16.52040761, 22.61909949,\n",
       "       16.52040761, 26.68489408, 16.52040761, 12.45461303, 26.68489408,\n",
       "       26.68489408, 20.5862022 , 20.5862022 , 20.5862022 ,  8.38881844,\n",
       "       14.48751032, 12.45461303, 14.48751032,  8.38881844, 10.42171574,\n",
       "       10.42171574, 26.68489408, 22.61909949, 14.48751032, 18.55330491,\n",
       "        6.35592115, 20.5862022 , 14.48751032, 12.45461303, 16.52040761,\n",
       "        8.38881844, 14.48751032, 16.52040761,  6.35592115, 14.48751032,\n",
       "       12.45461303, 24.65199678, 22.61909949, 18.55330491, 18.55330491,\n",
       "       26.68489408, 26.68489408,  8.38881844, 22.61909949, 26.68489408,\n",
       "       14.48751032, 22.61909949, 24.65199678, 14.48751032, 20.5862022 ,\n",
       "       16.52040761,  6.35592115, 20.5862022 , 16.52040761, 16.52040761,\n",
       "       22.61909949, 26.68489408, 14.48751032, 22.61909949, 16.52040761,\n",
       "        6.35592115,  6.35592115, 12.45461303, 26.68489408, 16.52040761,\n",
       "       26.68489408, 10.42171574, 18.55330491, 16.52040761, 22.61909949,\n",
       "       12.45461303, 16.52040761, 22.61909949, 10.42171574,  8.38881844,\n",
       "       22.61909949, 14.48751032, 16.52040761, 14.48751032, 22.61909949,\n",
       "       20.5862022 , 14.48751032, 20.5862022 , 14.48751032, 12.45461303,\n",
       "       24.65199678, 24.65199678,  8.38881844,  8.38881844,  8.38881844,\n",
       "       10.42171574, 22.61909949, 24.65199678, 14.48751032,  8.38881844,\n",
       "       12.45461303, 14.48751032, 20.5862022 , 18.55330491,  6.35592115,\n",
       "       14.48751032, 26.68489408, 18.55330491, 16.52040761,  6.35592115,\n",
       "       26.68489408, 14.48751032, 24.65199678, 18.55330491, 12.45461303,\n",
       "       12.45461303, 16.52040761, 24.65199678, 12.45461303, 10.42171574,\n",
       "       10.42171574,  8.38881844, 12.45461303, 10.42171574, 22.61909949,\n",
       "        8.38881844, 22.61909949, 22.61909949, 12.45461303, 20.5862022 ,\n",
       "        8.38881844])"
      ]
     },
     "execution_count": 15,
     "metadata": {},
     "output_type": "execute_result"
    }
   ],
   "source": [
    "y_pred = model.predict(X_test.values.reshape(-1,1))\n",
    "y_pred"
   ]
  },
  {
   "cell_type": "code",
   "execution_count": 16,
   "id": "0ba36286",
   "metadata": {},
   "outputs": [
    {
     "data": {
      "image/png": "[encoded data removed]",
      "text/plain": [
       "<Figure size 432x288 with 1 Axes>"
      ]
     },
     "metadata": {
      "needs_background": "light"
     },
     "output_type": "display_data"
    }
   ],
   "source": [
    "plt.scatter(X_train,y_train)\n",
    "plt.plot(X_test,y_pred, color = 'red')\n",
    "plt.show()"
   ]
  },
  {
   "cell_type": "markdown",
   "id": "b8d5a478",
   "metadata": {},
   "source": [
    "## Store and use the modul after training"
   ]
  },
  {
   "cell_type": "code",
   "execution_count": 17,
   "id": "f71060e7",
   "metadata": {},
   "outputs": [],
   "source": [
    "import pickle\n",
    "filename = 'model.sav'\n",
    "pickle.dump(model, open(filename,'wb'))"
   ]
  },
  {
   "cell_type": "markdown",
   "id": "9715b393",
   "metadata": {},
   "source": [
    "## Use the saved model"
   ]
  },
  {
   "cell_type": "code",
   "execution_count": 18,
   "id": "36edc7ab",
   "metadata": {},
   "outputs": [
    {
     "data": {
      "text/plain": [
       "array([ 8.38881844, 10.42171574, 14.48751032])"
      ]
     },
     "execution_count": 18,
     "metadata": {},
     "output_type": "execute_result"
    }
   ],
   "source": [
    "loaded_model = pickle.load(open(filename, 'rb'))\n",
    "x = [[1],[2],[4]]\n",
    "y_pred = loaded_model.predict(x)\n",
    "y_pred"
   ]
  },
  {
   "cell_type": "code",
   "execution_count": null,
   "id": "6793b695",
   "metadata": {},
   "outputs": [],
   "source": []
  },
  {
   "cell_type": "code",
   "execution_count": null,
   "id": "eb36274e",
   "metadata": {},
   "outputs": [],
   "source": []
  }
 ],
 "metadata": {
  "kernelspec": {
   "display_name": "Python 3 (ipykernel)",
   "language": "python",
   "name": "python3"
  },
  "language_info": {
   "codemirror_mode": {
    "name": "ipython",
    "version": 3
   },
   "file_extension": ".py",
   "mimetype": "text/x-python",
   "name": "python",
   "nbconvert_exporter": "python",
   "pygments_lexer": "ipython3",
   "version": "3.9.12"
  }
 },
 "nbformat": 4,
 "nbformat_minor": 5
}
