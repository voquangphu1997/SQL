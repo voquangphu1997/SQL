{
 "cells": [
  {
   "cell_type": "code",
   "execution_count": 1,
   "metadata": {},
   "outputs": [],
   "source": [
    "import pandas as pd\n",
    "import seaborn as sns"
   ]
  },
  {
   "cell_type": "code",
   "execution_count": 2,
   "metadata": {},
   "outputs": [
    {
     "data": {
      "text/html": [
       "<div>\n",
       "<style scoped>\n",
       "    .dataframe tbody tr th:only-of-type {\n",
       "        vertical-align: middle;\n",
       "    }\n",
       "\n",
       "    .dataframe tbody tr th {\n",
       "        vertical-align: top;\n",
       "    }\n",
       "\n",
       "    .dataframe thead th {\n",
       "        text-align: right;\n",
       "    }\n",
       "</style>\n",
       "<table border=\"1\" class=\"dataframe\">\n",
       "  <thead>\n",
       "    <tr style=\"text-align: right;\">\n",
       "      <th></th>\n",
       "      <th>pk_shop</th>\n",
       "      <th>date_collected</th>\n",
       "      <th>shopid</th>\n",
       "      <th>name</th>\n",
       "      <th>join_month</th>\n",
       "      <th>join_day</th>\n",
       "      <th>join_year</th>\n",
       "      <th>item_count</th>\n",
       "      <th>follower_count</th>\n",
       "      <th>response_time</th>\n",
       "      <th>response_rate</th>\n",
       "      <th>shop_location</th>\n",
       "      <th>rating_bad</th>\n",
       "      <th>rating_good</th>\n",
       "      <th>rating_normal</th>\n",
       "      <th>rating_star</th>\n",
       "      <th>is_shopee_verified</th>\n",
       "      <th>is_official_shop</th>\n",
       "    </tr>\n",
       "  </thead>\n",
       "  <tbody>\n",
       "    <tr>\n",
       "      <th>0</th>\n",
       "      <td>20210613254711738</td>\n",
       "      <td>2021-06-13</td>\n",
       "      <td>254711738</td>\n",
       "      <td>hello.may.ph</td>\n",
       "      <td>April</td>\n",
       "      <td>27</td>\n",
       "      <td>2020</td>\n",
       "      <td>446</td>\n",
       "      <td>17487</td>\n",
       "      <td>10:13:55</td>\n",
       "      <td>96</td>\n",
       "      <td>NaN</td>\n",
       "      <td>181</td>\n",
       "      <td>17510</td>\n",
       "      <td>729</td>\n",
       "      <td>4.81</td>\n",
       "      <td>1</td>\n",
       "      <td>0</td>\n",
       "    </tr>\n",
       "    <tr>\n",
       "      <th>1</th>\n",
       "      <td>20210613314198143</td>\n",
       "      <td>2021-06-13</td>\n",
       "      <td>314198143</td>\n",
       "      <td>love.women.shop</td>\n",
       "      <td>September</td>\n",
       "      <td>25</td>\n",
       "      <td>2020</td>\n",
       "      <td>263</td>\n",
       "      <td>8574</td>\n",
       "      <td>10:43:05</td>\n",
       "      <td>73</td>\n",
       "      <td>San Nicolas,Metro Manila</td>\n",
       "      <td>78</td>\n",
       "      <td>2656</td>\n",
       "      <td>198</td>\n",
       "      <td>4.68</td>\n",
       "      <td>0</td>\n",
       "      <td>0</td>\n",
       "    </tr>\n",
       "    <tr>\n",
       "      <th>2</th>\n",
       "      <td>2021061310377223</td>\n",
       "      <td>2021-06-13</td>\n",
       "      <td>10377223</td>\n",
       "      <td>R&amp;O RedOrange</td>\n",
       "      <td>September</td>\n",
       "      <td>27</td>\n",
       "      <td>2016</td>\n",
       "      <td>209</td>\n",
       "      <td>660417</td>\n",
       "      <td>08:32:07</td>\n",
       "      <td>90</td>\n",
       "      <td>Pasay City,Metro Manila</td>\n",
       "      <td>4647</td>\n",
       "      <td>1071829</td>\n",
       "      <td>18073</td>\n",
       "      <td>4.91</td>\n",
       "      <td>1</td>\n",
       "      <td>0</td>\n",
       "    </tr>\n",
       "    <tr>\n",
       "      <th>3</th>\n",
       "      <td>2021061321407329</td>\n",
       "      <td>2021-06-13</td>\n",
       "      <td>21407329</td>\n",
       "      <td>patriciacai</td>\n",
       "      <td>April</td>\n",
       "      <td>30</td>\n",
       "      <td>2017</td>\n",
       "      <td>165</td>\n",
       "      <td>18787</td>\n",
       "      <td>09:10:38</td>\n",
       "      <td>94</td>\n",
       "      <td>Binondo,Metro Manila</td>\n",
       "      <td>44</td>\n",
       "      <td>18959</td>\n",
       "      <td>215</td>\n",
       "      <td>4.94</td>\n",
       "      <td>1</td>\n",
       "      <td>0</td>\n",
       "    </tr>\n",
       "    <tr>\n",
       "      <th>4</th>\n",
       "      <td>2021061311187885</td>\n",
       "      <td>2021-06-13</td>\n",
       "      <td>11187885</td>\n",
       "      <td>Little Market Manila</td>\n",
       "      <td>October</td>\n",
       "      <td>18</td>\n",
       "      <td>2016</td>\n",
       "      <td>467</td>\n",
       "      <td>67371</td>\n",
       "      <td>11:40:59</td>\n",
       "      <td>89</td>\n",
       "      <td>Caloocan City,Metro Manila</td>\n",
       "      <td>680</td>\n",
       "      <td>39252</td>\n",
       "      <td>2383</td>\n",
       "      <td>4.73</td>\n",
       "      <td>1</td>\n",
       "      <td>0</td>\n",
       "    </tr>\n",
       "    <tr>\n",
       "      <th>...</th>\n",
       "      <td>...</td>\n",
       "      <td>...</td>\n",
       "      <td>...</td>\n",
       "      <td>...</td>\n",
       "      <td>...</td>\n",
       "      <td>...</td>\n",
       "      <td>...</td>\n",
       "      <td>...</td>\n",
       "      <td>...</td>\n",
       "      <td>...</td>\n",
       "      <td>...</td>\n",
       "      <td>...</td>\n",
       "      <td>...</td>\n",
       "      <td>...</td>\n",
       "      <td>...</td>\n",
       "      <td>...</td>\n",
       "      <td>...</td>\n",
       "      <td>...</td>\n",
       "    </tr>\n",
       "    <tr>\n",
       "      <th>741</th>\n",
       "      <td>20210706449182992</td>\n",
       "      <td>2021-07-06</td>\n",
       "      <td>449182992</td>\n",
       "      <td>Yacent_thrift_Clo</td>\n",
       "      <td>May</td>\n",
       "      <td>22</td>\n",
       "      <td>2021</td>\n",
       "      <td>16</td>\n",
       "      <td>115</td>\n",
       "      <td>08:45:30</td>\n",
       "      <td>86</td>\n",
       "      <td>Legazpi City,Albay</td>\n",
       "      <td>0</td>\n",
       "      <td>32</td>\n",
       "      <td>0</td>\n",
       "      <td>5.00</td>\n",
       "      <td>0</td>\n",
       "      <td>0</td>\n",
       "    </tr>\n",
       "    <tr>\n",
       "      <th>742</th>\n",
       "      <td>20210706396605392</td>\n",
       "      <td>2021-07-06</td>\n",
       "      <td>396605392</td>\n",
       "      <td>Akistore.ph</td>\n",
       "      <td>March</td>\n",
       "      <td>3</td>\n",
       "      <td>2021</td>\n",
       "      <td>84</td>\n",
       "      <td>84</td>\n",
       "      <td>08:01:23</td>\n",
       "      <td>91</td>\n",
       "      <td>NaN</td>\n",
       "      <td>1</td>\n",
       "      <td>9</td>\n",
       "      <td>0</td>\n",
       "      <td>4.60</td>\n",
       "      <td>0</td>\n",
       "      <td>0</td>\n",
       "    </tr>\n",
       "    <tr>\n",
       "      <th>743</th>\n",
       "      <td>20210706360379308</td>\n",
       "      <td>2021-07-06</td>\n",
       "      <td>360379308</td>\n",
       "      <td>Yzanice Shop</td>\n",
       "      <td>December</td>\n",
       "      <td>20</td>\n",
       "      <td>2020</td>\n",
       "      <td>78</td>\n",
       "      <td>5982</td>\n",
       "      <td>08:46:30</td>\n",
       "      <td>96</td>\n",
       "      <td>NaN</td>\n",
       "      <td>16</td>\n",
       "      <td>463</td>\n",
       "      <td>16</td>\n",
       "      <td>4.75</td>\n",
       "      <td>1</td>\n",
       "      <td>0</td>\n",
       "    </tr>\n",
       "    <tr>\n",
       "      <th>744</th>\n",
       "      <td>2021070629392066</td>\n",
       "      <td>2021-07-06</td>\n",
       "      <td>29392066</td>\n",
       "      <td>Clairecvc Shop</td>\n",
       "      <td>August</td>\n",
       "      <td>2</td>\n",
       "      <td>2017</td>\n",
       "      <td>964</td>\n",
       "      <td>44029</td>\n",
       "      <td>12:19:44</td>\n",
       "      <td>73</td>\n",
       "      <td>Binondo,Metro Manila</td>\n",
       "      <td>1960</td>\n",
       "      <td>103289</td>\n",
       "      <td>3982</td>\n",
       "      <td>4.78</td>\n",
       "      <td>0</td>\n",
       "      <td>0</td>\n",
       "    </tr>\n",
       "    <tr>\n",
       "      <th>745</th>\n",
       "      <td>2021070625811092</td>\n",
       "      <td>2021-07-06</td>\n",
       "      <td>25811092</td>\n",
       "      <td>angelcity.ð</td>\n",
       "      <td>June</td>\n",
       "      <td>17</td>\n",
       "      <td>2017</td>\n",
       "      <td>272</td>\n",
       "      <td>868370</td>\n",
       "      <td>10:02:42</td>\n",
       "      <td>36</td>\n",
       "      <td>Pasay City,Metro Manila</td>\n",
       "      <td>13401</td>\n",
       "      <td>708666</td>\n",
       "      <td>30799</td>\n",
       "      <td>4.77</td>\n",
       "      <td>0</td>\n",
       "      <td>0</td>\n",
       "    </tr>\n",
       "  </tbody>\n",
       "</table>\n",
       "<p>746 rows × 18 columns</p>\n",
       "</div>"
      ],
      "text/plain": [
       "               pk_shop date_collected     shopid                  name  \\\n",
       "0    20210613254711738     2021-06-13  254711738          hello.may.ph   \n",
       "1    20210613314198143     2021-06-13  314198143       love.women.shop   \n",
       "2     2021061310377223     2021-06-13   10377223         R&O RedOrange   \n",
       "3     2021061321407329     2021-06-13   21407329           patriciacai   \n",
       "4     2021061311187885     2021-06-13   11187885  Little Market Manila   \n",
       "..                 ...            ...        ...                   ...   \n",
       "741  20210706449182992     2021-07-06  449182992     Yacent_thrift_Clo   \n",
       "742  20210706396605392     2021-07-06  396605392           Akistore.ph   \n",
       "743  20210706360379308     2021-07-06  360379308          Yzanice Shop   \n",
       "744   2021070629392066     2021-07-06   29392066        Clairecvc Shop   \n",
       "745   2021070625811092     2021-07-06   25811092        angelcity.ð   \n",
       "\n",
       "    join_month  join_day  join_year  item_count  follower_count response_time  \\\n",
       "0        April        27       2020         446           17487      10:13:55   \n",
       "1    September        25       2020         263            8574      10:43:05   \n",
       "2    September        27       2016         209          660417      08:32:07   \n",
       "3        April        30       2017         165           18787      09:10:38   \n",
       "4      October        18       2016         467           67371      11:40:59   \n",
       "..         ...       ...        ...         ...             ...           ...   \n",
       "741        May        22       2021          16             115      08:45:30   \n",
       "742      March         3       2021          84              84      08:01:23   \n",
       "743   December        20       2020          78            5982      08:46:30   \n",
       "744     August         2       2017         964           44029      12:19:44   \n",
       "745       June        17       2017         272          868370      10:02:42   \n",
       "\n",
       "     response_rate               shop_location  rating_bad  rating_good  \\\n",
       "0               96                         NaN         181        17510   \n",
       "1               73    San Nicolas,Metro Manila          78         2656   \n",
       "2               90     Pasay City,Metro Manila        4647      1071829   \n",
       "3               94        Binondo,Metro Manila          44        18959   \n",
       "4               89  Caloocan City,Metro Manila         680        39252   \n",
       "..             ...                         ...         ...          ...   \n",
       "741             86          Legazpi City,Albay           0           32   \n",
       "742             91                         NaN           1            9   \n",
       "743             96                         NaN          16          463   \n",
       "744             73        Binondo,Metro Manila        1960       103289   \n",
       "745             36     Pasay City,Metro Manila       13401       708666   \n",
       "\n",
       "     rating_normal  rating_star  is_shopee_verified  is_official_shop  \n",
       "0              729         4.81                   1                 0  \n",
       "1              198         4.68                   0                 0  \n",
       "2            18073         4.91                   1                 0  \n",
       "3              215         4.94                   1                 0  \n",
       "4             2383         4.73                   1                 0  \n",
       "..             ...          ...                 ...               ...  \n",
       "741              0         5.00                   0                 0  \n",
       "742              0         4.60                   0                 0  \n",
       "743             16         4.75                   1                 0  \n",
       "744           3982         4.78                   0                 0  \n",
       "745          30799         4.77                   0                 0  \n",
       "\n",
       "[746 rows x 18 columns]"
      ]
     },
     "execution_count": 2,
     "metadata": {},
     "output_type": "execute_result"
    }
   ],
   "source": [
    "df = pd.read_csv(\"data/shopeep_koreantop_clothing_shop_data.csv\", encoding = \"ISO-8859-1\")\n",
    "df"
   ]
  },
  {
   "cell_type": "code",
   "execution_count": 3,
   "metadata": {},
   "outputs": [
    {
     "name": "stdout",
     "output_type": "stream",
     "text": [
      "<class 'pandas.core.frame.DataFrame'>\n",
      "RangeIndex: 746 entries, 0 to 745\n",
      "Data columns (total 18 columns):\n",
      " #   Column              Non-Null Count  Dtype  \n",
      "---  ------              --------------  -----  \n",
      " 0   pk_shop             746 non-null    int64  \n",
      " 1   date_collected      746 non-null    object \n",
      " 2   shopid              746 non-null    int64  \n",
      " 3   name                746 non-null    object \n",
      " 4   join_month          746 non-null    object \n",
      " 5   join_day            746 non-null    int64  \n",
      " 6   join_year           746 non-null    int64  \n",
      " 7   item_count          746 non-null    int64  \n",
      " 8   follower_count      746 non-null    int64  \n",
      " 9   response_time       746 non-null    object \n",
      " 10  response_rate       746 non-null    int64  \n",
      " 11  shop_location       428 non-null    object \n",
      " 12  rating_bad          746 non-null    int64  \n",
      " 13  rating_good         746 non-null    int64  \n",
      " 14  rating_normal       746 non-null    int64  \n",
      " 15  rating_star         740 non-null    float64\n",
      " 16  is_shopee_verified  746 non-null    int64  \n",
      " 17  is_official_shop    746 non-null    int64  \n",
      "dtypes: float64(1), int64(12), object(5)\n",
      "memory usage: 105.0+ KB\n"
     ]
    }
   ],
   "source": [
    "df.info()"
   ]
  },
  {
   "cell_type": "code",
   "execution_count": 4,
   "metadata": {},
   "outputs": [],
   "source": [
    "df = df.drop_duplicates()"
   ]
  },
  {
   "cell_type": "code",
   "execution_count": 5,
   "metadata": {},
   "outputs": [
    {
     "data": {
      "text/html": [
       "<div>\n",
       "<style scoped>\n",
       "    .dataframe tbody tr th:only-of-type {\n",
       "        vertical-align: middle;\n",
       "    }\n",
       "\n",
       "    .dataframe tbody tr th {\n",
       "        vertical-align: top;\n",
       "    }\n",
       "\n",
       "    .dataframe thead th {\n",
       "        text-align: right;\n",
       "    }\n",
       "</style>\n",
       "<table border=\"1\" class=\"dataframe\">\n",
       "  <thead>\n",
       "    <tr style=\"text-align: right;\">\n",
       "      <th></th>\n",
       "      <th>pk_shop</th>\n",
       "      <th>date_collected</th>\n",
       "      <th>shopid</th>\n",
       "      <th>name</th>\n",
       "      <th>join_month</th>\n",
       "      <th>join_day</th>\n",
       "      <th>join_year</th>\n",
       "      <th>item_count</th>\n",
       "      <th>follower_count</th>\n",
       "      <th>response_time</th>\n",
       "      <th>response_rate</th>\n",
       "      <th>shop_location</th>\n",
       "      <th>rating_bad</th>\n",
       "      <th>rating_good</th>\n",
       "      <th>rating_normal</th>\n",
       "      <th>rating_star</th>\n",
       "      <th>is_shopee_verified</th>\n",
       "      <th>is_official_shop</th>\n",
       "    </tr>\n",
       "  </thead>\n",
       "  <tbody>\n",
       "    <tr>\n",
       "      <th>0</th>\n",
       "      <td>20210613254711738</td>\n",
       "      <td>2021-06-13</td>\n",
       "      <td>254711738</td>\n",
       "      <td>hello.may.ph</td>\n",
       "      <td>April</td>\n",
       "      <td>27</td>\n",
       "      <td>2020</td>\n",
       "      <td>446</td>\n",
       "      <td>17487</td>\n",
       "      <td>10:13:55</td>\n",
       "      <td>96</td>\n",
       "      <td>NaN</td>\n",
       "      <td>181</td>\n",
       "      <td>17510</td>\n",
       "      <td>729</td>\n",
       "      <td>4.81</td>\n",
       "      <td>1</td>\n",
       "      <td>0</td>\n",
       "    </tr>\n",
       "    <tr>\n",
       "      <th>1</th>\n",
       "      <td>20210613314198143</td>\n",
       "      <td>2021-06-13</td>\n",
       "      <td>314198143</td>\n",
       "      <td>love.women.shop</td>\n",
       "      <td>September</td>\n",
       "      <td>25</td>\n",
       "      <td>2020</td>\n",
       "      <td>263</td>\n",
       "      <td>8574</td>\n",
       "      <td>10:43:05</td>\n",
       "      <td>73</td>\n",
       "      <td>San Nicolas,Metro Manila</td>\n",
       "      <td>78</td>\n",
       "      <td>2656</td>\n",
       "      <td>198</td>\n",
       "      <td>4.68</td>\n",
       "      <td>0</td>\n",
       "      <td>0</td>\n",
       "    </tr>\n",
       "    <tr>\n",
       "      <th>2</th>\n",
       "      <td>2021061310377223</td>\n",
       "      <td>2021-06-13</td>\n",
       "      <td>10377223</td>\n",
       "      <td>R&amp;O RedOrange</td>\n",
       "      <td>September</td>\n",
       "      <td>27</td>\n",
       "      <td>2016</td>\n",
       "      <td>209</td>\n",
       "      <td>660417</td>\n",
       "      <td>08:32:07</td>\n",
       "      <td>90</td>\n",
       "      <td>Pasay City,Metro Manila</td>\n",
       "      <td>4647</td>\n",
       "      <td>1071829</td>\n",
       "      <td>18073</td>\n",
       "      <td>4.91</td>\n",
       "      <td>1</td>\n",
       "      <td>0</td>\n",
       "    </tr>\n",
       "    <tr>\n",
       "      <th>3</th>\n",
       "      <td>2021061321407329</td>\n",
       "      <td>2021-06-13</td>\n",
       "      <td>21407329</td>\n",
       "      <td>patriciacai</td>\n",
       "      <td>April</td>\n",
       "      <td>30</td>\n",
       "      <td>2017</td>\n",
       "      <td>165</td>\n",
       "      <td>18787</td>\n",
       "      <td>09:10:38</td>\n",
       "      <td>94</td>\n",
       "      <td>Binondo,Metro Manila</td>\n",
       "      <td>44</td>\n",
       "      <td>18959</td>\n",
       "      <td>215</td>\n",
       "      <td>4.94</td>\n",
       "      <td>1</td>\n",
       "      <td>0</td>\n",
       "    </tr>\n",
       "    <tr>\n",
       "      <th>4</th>\n",
       "      <td>2021061311187885</td>\n",
       "      <td>2021-06-13</td>\n",
       "      <td>11187885</td>\n",
       "      <td>Little Market Manila</td>\n",
       "      <td>October</td>\n",
       "      <td>18</td>\n",
       "      <td>2016</td>\n",
       "      <td>467</td>\n",
       "      <td>67371</td>\n",
       "      <td>11:40:59</td>\n",
       "      <td>89</td>\n",
       "      <td>Caloocan City,Metro Manila</td>\n",
       "      <td>680</td>\n",
       "      <td>39252</td>\n",
       "      <td>2383</td>\n",
       "      <td>4.73</td>\n",
       "      <td>1</td>\n",
       "      <td>0</td>\n",
       "    </tr>\n",
       "    <tr>\n",
       "      <th>...</th>\n",
       "      <td>...</td>\n",
       "      <td>...</td>\n",
       "      <td>...</td>\n",
       "      <td>...</td>\n",
       "      <td>...</td>\n",
       "      <td>...</td>\n",
       "      <td>...</td>\n",
       "      <td>...</td>\n",
       "      <td>...</td>\n",
       "      <td>...</td>\n",
       "      <td>...</td>\n",
       "      <td>...</td>\n",
       "      <td>...</td>\n",
       "      <td>...</td>\n",
       "      <td>...</td>\n",
       "      <td>...</td>\n",
       "      <td>...</td>\n",
       "      <td>...</td>\n",
       "    </tr>\n",
       "    <tr>\n",
       "      <th>741</th>\n",
       "      <td>20210706449182992</td>\n",
       "      <td>2021-07-06</td>\n",
       "      <td>449182992</td>\n",
       "      <td>Yacent_thrift_Clo</td>\n",
       "      <td>May</td>\n",
       "      <td>22</td>\n",
       "      <td>2021</td>\n",
       "      <td>16</td>\n",
       "      <td>115</td>\n",
       "      <td>08:45:30</td>\n",
       "      <td>86</td>\n",
       "      <td>Legazpi City,Albay</td>\n",
       "      <td>0</td>\n",
       "      <td>32</td>\n",
       "      <td>0</td>\n",
       "      <td>5.00</td>\n",
       "      <td>0</td>\n",
       "      <td>0</td>\n",
       "    </tr>\n",
       "    <tr>\n",
       "      <th>742</th>\n",
       "      <td>20210706396605392</td>\n",
       "      <td>2021-07-06</td>\n",
       "      <td>396605392</td>\n",
       "      <td>Akistore.ph</td>\n",
       "      <td>March</td>\n",
       "      <td>3</td>\n",
       "      <td>2021</td>\n",
       "      <td>84</td>\n",
       "      <td>84</td>\n",
       "      <td>08:01:23</td>\n",
       "      <td>91</td>\n",
       "      <td>NaN</td>\n",
       "      <td>1</td>\n",
       "      <td>9</td>\n",
       "      <td>0</td>\n",
       "      <td>4.60</td>\n",
       "      <td>0</td>\n",
       "      <td>0</td>\n",
       "    </tr>\n",
       "    <tr>\n",
       "      <th>743</th>\n",
       "      <td>20210706360379308</td>\n",
       "      <td>2021-07-06</td>\n",
       "      <td>360379308</td>\n",
       "      <td>Yzanice Shop</td>\n",
       "      <td>December</td>\n",
       "      <td>20</td>\n",
       "      <td>2020</td>\n",
       "      <td>78</td>\n",
       "      <td>5982</td>\n",
       "      <td>08:46:30</td>\n",
       "      <td>96</td>\n",
       "      <td>NaN</td>\n",
       "      <td>16</td>\n",
       "      <td>463</td>\n",
       "      <td>16</td>\n",
       "      <td>4.75</td>\n",
       "      <td>1</td>\n",
       "      <td>0</td>\n",
       "    </tr>\n",
       "    <tr>\n",
       "      <th>744</th>\n",
       "      <td>2021070629392066</td>\n",
       "      <td>2021-07-06</td>\n",
       "      <td>29392066</td>\n",
       "      <td>Clairecvc Shop</td>\n",
       "      <td>August</td>\n",
       "      <td>2</td>\n",
       "      <td>2017</td>\n",
       "      <td>964</td>\n",
       "      <td>44029</td>\n",
       "      <td>12:19:44</td>\n",
       "      <td>73</td>\n",
       "      <td>Binondo,Metro Manila</td>\n",
       "      <td>1960</td>\n",
       "      <td>103289</td>\n",
       "      <td>3982</td>\n",
       "      <td>4.78</td>\n",
       "      <td>0</td>\n",
       "      <td>0</td>\n",
       "    </tr>\n",
       "    <tr>\n",
       "      <th>745</th>\n",
       "      <td>2021070625811092</td>\n",
       "      <td>2021-07-06</td>\n",
       "      <td>25811092</td>\n",
       "      <td>angelcity.ð</td>\n",
       "      <td>June</td>\n",
       "      <td>17</td>\n",
       "      <td>2017</td>\n",
       "      <td>272</td>\n",
       "      <td>868370</td>\n",
       "      <td>10:02:42</td>\n",
       "      <td>36</td>\n",
       "      <td>Pasay City,Metro Manila</td>\n",
       "      <td>13401</td>\n",
       "      <td>708666</td>\n",
       "      <td>30799</td>\n",
       "      <td>4.77</td>\n",
       "      <td>0</td>\n",
       "      <td>0</td>\n",
       "    </tr>\n",
       "  </tbody>\n",
       "</table>\n",
       "<p>746 rows × 18 columns</p>\n",
       "</div>"
      ],
      "text/plain": [
       "               pk_shop date_collected     shopid                  name  \\\n",
       "0    20210613254711738     2021-06-13  254711738          hello.may.ph   \n",
       "1    20210613314198143     2021-06-13  314198143       love.women.shop   \n",
       "2     2021061310377223     2021-06-13   10377223         R&O RedOrange   \n",
       "3     2021061321407329     2021-06-13   21407329           patriciacai   \n",
       "4     2021061311187885     2021-06-13   11187885  Little Market Manila   \n",
       "..                 ...            ...        ...                   ...   \n",
       "741  20210706449182992     2021-07-06  449182992     Yacent_thrift_Clo   \n",
       "742  20210706396605392     2021-07-06  396605392           Akistore.ph   \n",
       "743  20210706360379308     2021-07-06  360379308          Yzanice Shop   \n",
       "744   2021070629392066     2021-07-06   29392066        Clairecvc Shop   \n",
       "745   2021070625811092     2021-07-06   25811092        angelcity.ð   \n",
       "\n",
       "    join_month  join_day  join_year  item_count  follower_count response_time  \\\n",
       "0        April        27       2020         446           17487      10:13:55   \n",
       "1    September        25       2020         263            8574      10:43:05   \n",
       "2    September        27       2016         209          660417      08:32:07   \n",
       "3        April        30       2017         165           18787      09:10:38   \n",
       "4      October        18       2016         467           67371      11:40:59   \n",
       "..         ...       ...        ...         ...             ...           ...   \n",
       "741        May        22       2021          16             115      08:45:30   \n",
       "742      March         3       2021          84              84      08:01:23   \n",
       "743   December        20       2020          78            5982      08:46:30   \n",
       "744     August         2       2017         964           44029      12:19:44   \n",
       "745       June        17       2017         272          868370      10:02:42   \n",
       "\n",
       "     response_rate               shop_location  rating_bad  rating_good  \\\n",
       "0               96                         NaN         181        17510   \n",
       "1               73    San Nicolas,Metro Manila          78         2656   \n",
       "2               90     Pasay City,Metro Manila        4647      1071829   \n",
       "3               94        Binondo,Metro Manila          44        18959   \n",
       "4               89  Caloocan City,Metro Manila         680        39252   \n",
       "..             ...                         ...         ...          ...   \n",
       "741             86          Legazpi City,Albay           0           32   \n",
       "742             91                         NaN           1            9   \n",
       "743             96                         NaN          16          463   \n",
       "744             73        Binondo,Metro Manila        1960       103289   \n",
       "745             36     Pasay City,Metro Manila       13401       708666   \n",
       "\n",
       "     rating_normal  rating_star  is_shopee_verified  is_official_shop  \n",
       "0              729         4.81                   1                 0  \n",
       "1              198         4.68                   0                 0  \n",
       "2            18073         4.91                   1                 0  \n",
       "3              215         4.94                   1                 0  \n",
       "4             2383         4.73                   1                 0  \n",
       "..             ...          ...                 ...               ...  \n",
       "741              0         5.00                   0                 0  \n",
       "742              0         4.60                   0                 0  \n",
       "743             16         4.75                   1                 0  \n",
       "744           3982         4.78                   0                 0  \n",
       "745          30799         4.77                   0                 0  \n",
       "\n",
       "[746 rows x 18 columns]"
      ]
     },
     "execution_count": 5,
     "metadata": {},
     "output_type": "execute_result"
    }
   ],
   "source": [
    "df"
   ]
  },
  {
   "cell_type": "markdown",
   "metadata": {},
   "source": [
    "### Biểu đồ tần số lượng shop gia nhập theo các năm"
   ]
  },
  {
   "cell_type": "code",
   "execution_count": 6,
   "metadata": {},
   "outputs": [
    {
     "data": {
      "text/plain": [
       "<AxesSubplot: xlabel='join_year', ylabel='count'>"
      ]
     },
     "execution_count": 6,
     "metadata": {},
     "output_type": "execute_result"
    },
    {
     "data": {
      "image/png": "[encoded data removed]",
      "text/plain": [
       "<Figure size 640x480 with 1 Axes>"
      ]
     },
     "metadata": {},
     "output_type": "display_data"
    }
   ],
   "source": [
    "sns.countplot(x='join_year', data =df)"
   ]
  },
  {
   "cell_type": "markdown",
   "metadata": {},
   "source": [
    "### Biểu đồ xu hướng tỉ lện phản hồi với số lượng khách hàng đánh gia tốt"
   ]
  },
  {
   "cell_type": "code",
   "execution_count": 7,
   "metadata": {},
   "outputs": [
    {
     "data": {
      "text/plain": [
       "<seaborn.axisgrid.FacetGrid at 0x1b87fa908b0>"
      ]
     },
     "execution_count": 7,
     "metadata": {},
     "output_type": "execute_result"
    },
    {
     "data": {
      "image/png": "[encoded data removed]",
      "text/plain": [
       "<Figure size 500x500 with 1 Axes>"
      ]
     },
     "metadata": {},
     "output_type": "display_data"
    }
   ],
   "source": [
    "sns.lmplot(x= 'response_rate', y= 'rating_good', data= df)"
   ]
  },
  {
   "cell_type": "code",
   "execution_count": 8,
   "metadata": {},
   "outputs": [
    {
     "data": {
      "text/plain": [
       "<AxesSubplot: xlabel='response_rate', ylabel='rating_good'>"
      ]
     },
     "execution_count": 8,
     "metadata": {},
     "output_type": "execute_result"
    },
    {
     "data": {
      "image/png": "[encoded data removed]",
      "text/plain": [
       "<Figure size 640x480 with 1 Axes>"
      ]
     },
     "metadata": {},
     "output_type": "display_data"
    }
   ],
   "source": [
    "sns.violinplot(x= 'response_rate', y= 'rating_good', data= df)"
   ]
  },
  {
   "cell_type": "markdown",
   "metadata": {},
   "source": [
    "### Biểu đồ xu hướng thời gian phản hồi với số lượt khách hàng đánh giá xấu"
   ]
  },
  {
   "cell_type": "code",
   "execution_count": null,
   "metadata": {},
   "outputs": [],
   "source": []
  },
  {
   "cell_type": "code",
   "execution_count": null,
   "metadata": {},
   "outputs": [],
   "source": []
  },
  {
   "cell_type": "markdown",
   "metadata": {},
   "source": [
    "### Biểu đồ phân bố điểm đánh giá trung bình"
   ]
  },
  {
   "cell_type": "code",
   "execution_count": 9,
   "metadata": {},
   "outputs": [
    {
     "data": {
      "text/plain": [
       "<AxesSubplot: xlabel='rating_star'>"
      ]
     },
     "execution_count": 9,
     "metadata": {},
     "output_type": "execute_result"
    },
    {
     "data": {
      "image/png": "[encoded data removed]",
      "text/plain": [
       "<Figure size 640x480 with 1 Axes>"
      ]
     },
     "metadata": {},
     "output_type": "display_data"
    }
   ],
   "source": [
    "sns.violinplot(x='rating_star', data= df)"
   ]
  },
  {
   "cell_type": "markdown",
   "metadata": {},
   "source": [
    "### Biểu đồ tần số cửa hàng chính thức và không chính thức"
   ]
  },
  {
   "cell_type": "code",
   "execution_count": 10,
   "metadata": {},
   "outputs": [
    {
     "data": {
      "text/plain": [
       "<AxesSubplot: xlabel='count', ylabel='is_official_shop'>"
      ]
     },
     "execution_count": 10,
     "metadata": {},
     "output_type": "execute_result"
    },
    {
     "data": {
      "image/png": "[encoded data removed]",
      "text/plain": [
       "<Figure size 640x480 with 1 Axes>"
      ]
     },
     "metadata": {},
     "output_type": "display_data"
    }
   ],
   "source": [
    "sns.countplot(y='is_official_shop', data= df)"
   ]
  },
  {
   "cell_type": "markdown",
   "metadata": {},
   "source": [
    "### Biểu đồ tần số cửa hàng chính được xác thực và chưa xác thực"
   ]
  },
  {
   "cell_type": "code",
   "execution_count": 11,
   "metadata": {},
   "outputs": [
    {
     "data": {
      "text/plain": [
       "<AxesSubplot: xlabel='count', ylabel='is_shopee_verified'>"
      ]
     },
     "execution_count": 11,
     "metadata": {},
     "output_type": "execute_result"
    },
    {
     "data": {
      "image/png": "[encoded data removed]",
      "text/plain": [
       "<Figure size 640x480 with 1 Axes>"
      ]
     },
     "metadata": {},
     "output_type": "display_data"
    }
   ],
   "source": [
    "sns.countplot(y='is_shopee_verified', data= df)\n"
   ]
  },
  {
   "cell_type": "code",
   "execution_count": null,
   "metadata": {},
   "outputs": [],
   "source": []
  },
  {
   "cell_type": "code",
   "execution_count": 12,
   "metadata": {},
   "outputs": [
    {
     "ename": "NameError",
     "evalue": "name 'titanic' is not defined",
     "output_type": "error",
     "traceback": [
      "\u001b[1;31m---------------------------------------------------------------------------\u001b[0m",
      "\u001b[1;31mNameError\u001b[0m                                 Traceback (most recent call last)",
      "\u001b[1;32md:\\python\\SQL\\b12.ipynb Cell 21\u001b[0m in \u001b[0;36m<cell line: 1>\u001b[1;34m()\u001b[0m\n\u001b[1;32m----> <a href='vscode-notebook-cell:/d%3A/python/SQL/b12.ipynb#X26sZmlsZQ%3D%3D?line=0'>1</a>\u001b[0m sns\u001b[39m.\u001b[39mpairplot(titanic, hue\u001b[39m=\u001b[39m\u001b[39m'\u001b[39m\u001b[39msex\u001b[39m\u001b[39m'\u001b[39m)\n",
      "\u001b[1;31mNameError\u001b[0m: name 'titanic' is not defined"
     ]
    }
   ],
   "source": [
    "sns.pairplot(titanic, hue='sex')"
   ]
  },
  {
   "cell_type": "code",
   "execution_count": null,
   "metadata": {},
   "outputs": [],
   "source": []
  },
  {
   "cell_type": "code",
   "execution_count": null,
   "metadata": {},
   "outputs": [],
   "source": []
  },
  {
   "cell_type": "code",
   "execution_count": null,
   "metadata": {},
   "outputs": [],
   "source": []
  }
 ],
 "metadata": {
  "kernelspec": {
   "display_name": "Python 3.9.13 64-bit (microsoft store)",
   "language": "python",
   "name": "python3"
  },
  "language_info": {
   "codemirror_mode": {
    "name": "ipython",
    "version": 3
   },
   "file_extension": ".py",
   "mimetype": "text/x-python",
   "name": "python",
   "nbconvert_exporter": "python",
   "pygments_lexer": "ipython3",
   "version": "3.9.13"
  },
  "orig_nbformat": 4,
  "vscode": {
   "interpreter": {
    "hash": "f74eec0e85527e47e49ba00d9fd4381b2c1d66bcd05bdbcab2a56c62f2dbbf66"
   }
  }
 },
 "nbformat": 4,
 "nbformat_minor": 2
}
